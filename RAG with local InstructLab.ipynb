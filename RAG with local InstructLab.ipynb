{
 "cells": [
  {
   "cell_type": "markdown",
   "id": "81f60b17-d0b8-4172-8da6-3fb415c1dfb7",
   "metadata": {},
   "source": [
    "# Retrieval-augmented generation (RAG) with watsonx.ai"
   ]
  },
  {
   "cell_type": "code",
   "execution_count": 21,
   "id": "403a199b-7c66-4472-9932-8be9fda61905",
   "metadata": {},
   "outputs": [],
   "source": [
    "from typing import Any, Dict, Iterator, List, Optional\n",
    "import requests\n",
    "import json\n",
    "from langchain_core.callbacks.manager import CallbackManagerForLLMRun\n",
    "from langchain_core.language_models.llms import LLM\n",
    "from langchain_core.outputs import GenerationChunk\n",
    "\n",
    "class InstructLabLLM(LLM):\n",
    "    \"\"\"A custom chat model that communicates with an instructlab server.\n",
    "\n",
    "    Example:\n",
    "\n",
    "        .. code-block:: python\n",
    "\n",
    "            model = InstructLabLLM(\n",
    "                url=\"http://localhost:5000/your-endpoint\",\n",
    "                model_name=\"models/merlinite-7b-lab-Q4_K_M.gguf\",\n",
    "                system_message=\"You are a helpful assistant.\"\n",
    "            )\n",
    "            result = model.invoke([HumanMessage(content=\"hello\")])\n",
    "            result = model.batch([[HumanMessage(content=\"hello\")],\n",
    "                                 [HumanMessage(content=\"world\")]])\n",
    "    \"\"\"\n",
    "\n",
    "    url: str\n",
    "    model_name: str\n",
    "    system_message: str\n",
    "    \"\"\"The URL of the instructlab server, the model name, and the system message.\"\"\"\n",
    "\n",
    "    def _call(\n",
    "        self,\n",
    "        prompt: str,\n",
    "        stop: Optional[List[str]] = None,\n",
    "        run_manager: Optional[CallbackManagerForLLMRun] = None,\n",
    "        **kwargs: Any,\n",
    "    ) -> str:\n",
    "        \"\"\"Run the LLM on the given input.\n",
    "\n",
    "        Args:\n",
    "            prompt: The prompt to generate from.\n",
    "            stop: Stop words to use when generating. Model output is cut off at the\n",
    "                first occurrence of any of the stop substrings.\n",
    "            run_manager: Callback manager for the run.\n",
    "            **kwargs: Arbitrary additional keyword arguments. These are usually passed\n",
    "                to the model provider API call.\n",
    "\n",
    "        Returns:\n",
    "            The model output as a string.\n",
    "        \"\"\"\n",
    "        if stop is not None:\n",
    "            raise ValueError(\"stop kwargs are not permitted.\")\n",
    "\n",
    "        payload = {\n",
    "            \"model\": self.model_name,\n",
    "            \"messages\": [\n",
    "                {\"role\": \"system\", \"content\": self.system_message},\n",
    "                {\"role\": \"user\", \"content\": prompt}\n",
    "            ]\n",
    "        }\n",
    "        headers = {\n",
    "            \"Content-Type\": \"application/json\"\n",
    "        }\n",
    "\n",
    "        response = requests.post(self.url, data=json.dumps(payload), headers=headers)\n",
    "\n",
    "        if response.status_code == 200:\n",
    "            result = response.json()\n",
    "            return result['choices'][0]['message']['content']\n",
    "        else:\n",
    "            raise Exception(f\"Request failed with status code {response.status_code}\")\n",
    "\n",
    "    def _stream(\n",
    "        self,\n",
    "        prompt: str,\n",
    "        stop: Optional[List[str]] = None,\n",
    "        run_manager: Optional[CallbackManagerForLLMRun] = None,\n",
    "        **kwargs: Any,\n",
    "    ) -> Iterator[GenerationChunk]:\n",
    "        \"\"\"Stream the LLM on the given prompt.\n",
    "\n",
    "        This method should be overridden by subclasses that support streaming.\n",
    "\n",
    "        Args:\n",
    "            prompt: The prompt to generate from.\n",
    "            stop: Stop words to use when generating. Model output is cut off at the\n",
    "                first occurrence of any of these substrings.\n",
    "            run_manager: Callback manager for the run.\n",
    "            **kwargs: Arbitrary additional keyword arguments. These are usually passed\n",
    "                to the model provider API call.\n",
    "\n",
    "        Returns:\n",
    "            An iterator of GenerationChunks.\n",
    "        \"\"\"\n",
    "        payload = {\n",
    "            \"model\": self.model_name,\n",
    "            \"messages\": [\n",
    "                {\"role\": \"system\", \"content\": self.system_message},\n",
    "                {\"role\": \"user\", \"content\": prompt}\n",
    "            ]\n",
    "        }\n",
    "        headers = {\n",
    "        'Content-Type': 'application/json'\n",
    "        }\n",
    "\n",
    "        response = requests.post(self.url, data=json.dumps(payload), headers=headers, stream=True)\n",
    "\n",
    "        if response.status_code == 200:\n",
    "            for line in response.iter_lines():\n",
    "                if line:\n",
    "                    result = json.loads(line.decode('utf-8'))\n",
    "                    chunk = GenerationChunk(text=result.get(\"output\", \"\"))\n",
    "                    if run_manager:\n",
    "                        run_manager.on_llm_new_token(chunk.text, chunk=chunk)\n",
    "                    yield chunk\n",
    "        else:\n",
    "            raise Exception(f\"Request failed with status code {response.status_code}\")\n",
    "\n",
    "    @property\n",
    "    def _identifying_params(self) -> Dict[str, Any]:\n",
    "        \"\"\"Return a dictionary of identifying parameters.\"\"\"\n",
    "        return {\"url\": self.url, \"model_name\": self.model_name, \"system_message\": self.system_message}\n",
    "\n",
    "    @property\n",
    "    def _llm_type(self) -> str:\n",
    "        \"\"\"Get the type of language model used by this chat model. Used for logging purposes only.\"\"\"\n",
    "        return \"instructlab_llm\"\n"
   ]
  },
  {
   "cell_type": "markdown",
   "id": "55e5ad80-458d-4404-8a01-917e9775bd21",
   "metadata": {},
   "source": [
    "## Initialize InstructLab LLM"
   ]
  },
  {
   "cell_type": "code",
   "execution_count": 26,
   "id": "5af40212-a054-4d13-9def-880367adda66",
   "metadata": {},
   "outputs": [],
   "source": [
    "trained_model_url = \"http://127.0.0.1:8000/v1/chat/completions\"\n",
    "trained_model_name = \"instructlab-merlinite-7b-lab-trained/instructlab-merlinite-7b-lab-Q4_K_M.gguf\""
   ]
  },
  {
   "cell_type": "code",
   "execution_count": 27,
   "id": "02a533e8-ef9d-4818-a5b9-4a3dead4da5c",
   "metadata": {},
   "outputs": [],
   "source": [
    "system_message = \"You are a helpful assistant.\""
   ]
  },
  {
   "cell_type": "code",
   "execution_count": 28,
   "id": "d094f920-bbfe-45c8-9194-a7f6cf31b4f7",
   "metadata": {},
   "outputs": [],
   "source": [
    "instructLab_llm = InstructLabLLM(\n",
    "    url=trained_model_url,\n",
    "    model_name=trained_model_name,\n",
    "    system_message=system_message\n",
    ")"
   ]
  },
  {
   "cell_type": "code",
   "execution_count": 1,
   "id": "26bbbe92-93e7-45c3-932e-9f26a616d461",
   "metadata": {},
   "outputs": [],
   "source": [
    "from langchain_community.document_loaders import PyMuPDFLoader\n",
    "from langchain_chroma import Chroma\n",
    "from langchain_core.output_parsers import StrOutputParser\n",
    "from langchain_core.runnables import RunnablePassthrough\n",
    "from langchain_community.embeddings.sentence_transformer import SentenceTransformerEmbeddings\n",
    "from langchain_text_splitters import RecursiveCharacterTextSplitter\n",
    "from langchain_core.prompts import PromptTemplate"
   ]
  },
  {
   "cell_type": "code",
   "execution_count": 29,
   "id": "07e5bb6f-49be-43df-8d62-922089400cb4",
   "metadata": {},
   "outputs": [
    {
     "name": "stdout",
     "output_type": "stream",
     "text": [
      "A generative AI is an artificial intelligence that can create new content, such as text, images, or music, from scratch. It uses algorithms to analyze and understand patterns in data, which it then uses to generate similar but unique content.\n"
     ]
    }
   ],
   "source": [
    "response = instructLab_llm.invoke(\"What is a generative AI? Respond concisely.\")\n",
    "print(response)"
   ]
  },
  {
   "cell_type": "markdown",
   "id": "11607876-950a-433a-9151-bd6d60ca79e6",
   "metadata": {},
   "source": [
    "## Document Loader"
   ]
  },
  {
   "cell_type": "code",
   "execution_count": 30,
   "id": "b271c29b-7ac7-4a5b-b33a-fb8b8762f8cc",
   "metadata": {},
   "outputs": [],
   "source": [
    "loader = PyMuPDFLoader(\"documents/digitaltwin/UR10e User Manual.pdf\")"
   ]
  },
  {
   "cell_type": "code",
   "execution_count": 31,
   "id": "b196a423-483c-461e-8c0d-bdf8509df65c",
   "metadata": {},
   "outputs": [],
   "source": [
    "docs = loader.load()"
   ]
  },
  {
   "cell_type": "code",
   "execution_count": 32,
   "id": "8d72010e-fa79-410d-94c8-d5159b6d8ac3",
   "metadata": {},
   "outputs": [
    {
     "name": "stdout",
     "output_type": "stream",
     "text": [
      "Number of pages: 205\n"
     ]
    }
   ],
   "source": [
    "print(\"Number of pages:\", len(docs))"
   ]
  },
  {
   "cell_type": "markdown",
   "id": "e6a8a44a-4e28-4599-9ca3-e26b55bed244",
   "metadata": {},
   "source": [
    "## Text Splitter"
   ]
  },
  {
   "cell_type": "code",
   "execution_count": 33,
   "id": "62a94c5f-ce5d-42d1-b3e1-0702208ab21e",
   "metadata": {},
   "outputs": [],
   "source": [
    "text_splitter = RecursiveCharacterTextSplitter(chunk_size=1000, chunk_overlap=200)\n",
    "splits = text_splitter.split_documents(docs)"
   ]
  },
  {
   "cell_type": "markdown",
   "id": "658e1c94-ad29-418c-a9d9-678911c8b713",
   "metadata": {},
   "source": [
    "## Embeddings"
   ]
  },
  {
   "cell_type": "code",
   "execution_count": 34,
   "id": "76e2d2eb-d380-4472-8099-45d22b8a02b9",
   "metadata": {},
   "outputs": [],
   "source": [
    "model_name = \"all-MiniLM-L6-v2\"\n",
    "encode_kwargs = {'normalize_embeddings': True}\n",
    "embedding_model = SentenceTransformerEmbeddings(\n",
    "    model_name=model_name,\n",
    "    encode_kwargs=encode_kwargs\n",
    ")"
   ]
  },
  {
   "cell_type": "markdown",
   "id": "888ea017-020e-423f-b953-c3f6d882b2d8",
   "metadata": {},
   "source": [
    "## Vectorstore"
   ]
  },
  {
   "cell_type": "code",
   "execution_count": 35,
   "id": "ee1bc2eb-cd0f-48c7-b85d-509030d0b263",
   "metadata": {},
   "outputs": [],
   "source": [
    "vectorstore = Chroma.from_documents(documents=splits, embedding=embedding_model)"
   ]
  },
  {
   "cell_type": "markdown",
   "id": "5a382de1-f34f-44e3-945e-65ecc5c7ba09",
   "metadata": {},
   "source": [
    "## Retriever"
   ]
  },
  {
   "cell_type": "code",
   "execution_count": 36,
   "id": "e584f504-e389-4796-8ec2-bc29f0e8e7d9",
   "metadata": {},
   "outputs": [],
   "source": [
    "retriever = vectorstore.as_retriever()"
   ]
  },
  {
   "cell_type": "markdown",
   "id": "0861f706-3748-4128-85d6-745c94ed8f6e",
   "metadata": {},
   "source": [
    "## Prompt Template"
   ]
  },
  {
   "cell_type": "code",
   "execution_count": 37,
   "id": "c5e917f9-be62-4798-870a-2878f14a06d7",
   "metadata": {},
   "outputs": [],
   "source": [
    "template= \"\"\"You are an assistant for question-answering tasks. Use the following pieces of retrieved context to answer the question. If you don't know the answer, just say that you don't know. Use three sentences maximum and keep the answer concise.\n",
    "Context: {context} \n",
    "\n",
    "Question: {question}\n",
    "\n",
    "Answer:\"\"\""
   ]
  },
  {
   "cell_type": "code",
   "execution_count": 38,
   "id": "159d40c0-9ed2-4180-b3ae-ec4817af7ec3",
   "metadata": {},
   "outputs": [],
   "source": [
    "prompt = PromptTemplate(input_variables=['context', 'question'], output_parser=StrOutputParser(), template=template)"
   ]
  },
  {
   "cell_type": "markdown",
   "id": "4d18989a-95ed-4958-a67c-451211415706",
   "metadata": {},
   "source": [
    "## Q & A"
   ]
  },
  {
   "cell_type": "code",
   "execution_count": 39,
   "id": "ca4aee28-b6ec-44de-bc2c-ac914f740de0",
   "metadata": {},
   "outputs": [],
   "source": [
    "def format_docs(docs):\n",
    "    return \"\\n\\n\".join(doc.page_content for doc in docs)"
   ]
  },
  {
   "cell_type": "code",
   "execution_count": 40,
   "id": "cab7dc33-c43d-47e8-a045-ebdae17c3d7d",
   "metadata": {},
   "outputs": [],
   "source": [
    "rag_chain = (\n",
    "    {\"context\": retriever | format_docs, \"question\": RunnablePassthrough()}\n",
    "    | prompt\n",
    "    | instructLab_llm\n",
    "    | StrOutputParser()\n",
    ")"
   ]
  },
  {
   "cell_type": "code",
   "execution_count": 41,
   "id": "7e22552a-78ea-4d8d-a7b5-d42f4891a83d",
   "metadata": {},
   "outputs": [
    {
     "data": {
      "text/plain": [
       "'The boxes contain:\\n\\n• Control Box with Teach Pendant\\n• Mounting bracket for the Control Box'"
      ]
     },
     "execution_count": 41,
     "metadata": {},
     "output_type": "execute_result"
    }
   ],
   "source": [
    "rag_chain.invoke(\"What Do the Boxes Contain?\")"
   ]
  },
  {
   "cell_type": "code",
   "execution_count": 42,
   "id": "315f0d4f-20d5-4840-8140-1a9b1f3136e4",
   "metadata": {},
   "outputs": [
    {
     "data": {
      "text/plain": [
       "'The workspace of the UR10e robot extends up to 1300 mm from the base joint.'"
      ]
     },
     "execution_count": 42,
     "metadata": {},
     "output_type": "execute_result"
    }
   ],
   "source": [
    "rag_chain.invoke(\"How long does the workspace of the UR10e robot extend?\")"
   ]
  },
  {
   "cell_type": "code",
   "execution_count": null,
   "id": "b07e17c8-773a-486b-88d6-f8c5ef3d2c0a",
   "metadata": {},
   "outputs": [],
   "source": []
  }
 ],
 "metadata": {
  "kernelspec": {
   "display_name": "langchain-watsonx",
   "language": "python",
   "name": "langchain-watsonx"
  },
  "language_info": {
   "codemirror_mode": {
    "name": "ipython",
    "version": 3
   },
   "file_extension": ".py",
   "mimetype": "text/x-python",
   "name": "python",
   "nbconvert_exporter": "python",
   "pygments_lexer": "ipython3",
   "version": "3.11.9"
  }
 },
 "nbformat": 4,
 "nbformat_minor": 5
}
